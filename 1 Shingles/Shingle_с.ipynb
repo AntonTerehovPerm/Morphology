{
 "cells": [
  {
   "cell_type": "markdown",
   "metadata": {},
   "source": [
    "Ссылка на данные: https://cloud.mail.ru/public/yHxE/3KXCBUU3H"
   ]
  },
  {
   "cell_type": "code",
   "execution_count": null,
   "metadata": {},
   "outputs": [],
   "source": [
    "import pandas as pd\n",
    "from collections import defaultdict\n",
    "import tqdm\n",
    "from sklearn.metrics import jaccard_score\n",
    "import numpy as np\n",
    "from collections import Counter"
   ]
  },
  {
   "cell_type": "code",
   "execution_count": null,
   "metadata": {},
   "outputs": [],
   "source": [
    "tqdm.tqdm.pandas()"
   ]
  },
  {
   "cell_type": "code",
   "execution_count": null,
   "metadata": {},
   "outputs": [],
   "source": [
    "df1 = pd.read_csv('24.csv')\n",
    "df2 =pd.read_csv('lenta.csv')\n",
    "df3 = pd.read_csv('vesti.csv')\n",
    "df = pd.concat([df1,df2,df3])\n",
    "del df1\n",
    "del df2\n",
    "del df3"
   ]
  },
  {
   "cell_type": "code",
   "execution_count": null,
   "metadata": {},
   "outputs": [],
   "source": [
    "df = df.dropna()"
   ]
  },
  {
   "cell_type": "code",
   "execution_count": null,
   "metadata": {},
   "outputs": [],
   "source": [
    "from string import ascii_lowercase, digits, whitespace\n",
    "cyrillic = u\"абвгдеёжзийклмнопрстуфхцчшщъыьэюя\"\n",
    "allowed_characters = ascii_lowercase + digits + cyrillic + whitespace"
   ]
  },
  {
   "cell_type": "code",
   "execution_count": null,
   "metadata": {},
   "outputs": [],
   "source": [
    "def clean(text):\n",
    "    return ' '.join(''.join([character if character in set(allowed_characters) else ' ' for character in text.lower()]).split()) "
   ]
  },
  {
   "cell_type": "code",
   "execution_count": null,
   "metadata": {},
   "outputs": [],
   "source": [
    "df['cleaned'] = df.text.progress_apply(lambda x: clean(str(x)))"
   ]
  },
  {
   "cell_type": "code",
   "execution_count": null,
   "metadata": {},
   "outputs": [],
   "source": [
    "def build_shingles(text, n):\n",
    "    text = text.split()\n",
    "    shingles = []\n",
    "    for i in range(0, len(text) - n + 1):\n",
    "        shingle = []\n",
    "        for j in range(0, n):\n",
    "            shingle.append(text[i + j])\n",
    "        shingles.append(' '.join(shingle))\n",
    "    return shingles"
   ]
  },
  {
   "cell_type": "code",
   "execution_count": null,
   "metadata": {},
   "outputs": [],
   "source": [
    "df['shingles_2'] = df.cleaned.progress_apply(lambda x: build_shingles(x, 2))"
   ]
  },
  {
   "cell_type": "code",
   "execution_count": null,
   "metadata": {},
   "outputs": [],
   "source": [
    "BOS = []\n",
    "for shingle in df['shingles_2']:\n",
    "    BOS.extend(shingle)"
   ]
  },
  {
   "cell_type": "code",
   "execution_count": null,
   "metadata": {},
   "outputs": [],
   "source": [
    "print(len(BOS))\n",
    "BOS = list(set(BOS))\n",
    "print(len(BOS))"
   ]
  },
  {
   "cell_type": "code",
   "execution_count": null,
   "metadata": {},
   "outputs": [],
   "source": [
    "bag_dict = {}\n",
    "for i in range(0, len(BOS)):\n",
    "    bag_dict[BOS[i]] = i\n",
    "r = [0] * len(BOS)"
   ]
  },
  {
   "cell_type": "code",
   "execution_count": null,
   "metadata": {},
   "outputs": [],
   "source": [
    "arr = np.zeros((df.shape[0], len(BOS)), dtype=np.uint8)\n",
    "for num, sh in enumerate(df.shingles_2.tolist()):\n",
    "    for shingle in sh:\n",
    "        arr[num, bag_dict[shingle]] = 1\n"
   ]
  },
  {
   "cell_type": "code",
   "execution_count": null,
   "metadata": {},
   "outputs": [],
   "source": [
    "arr.shape"
   ]
  },
  {
   "cell_type": "code",
   "execution_count": null,
   "metadata": {},
   "outputs": [],
   "source": [
    "index = {}\n",
    "for shingle in BOS:\n",
    "    index[shingle] = []\n",
    "\n",
    "i = 0\n",
    "for shingles in np.array(df.shingles_2):\n",
    "    for shingle in shingles:\n",
    "        index[shingle].append(i)\n",
    "    i += 1"
   ]
  },
  {
   "cell_type": "code",
   "execution_count": null,
   "metadata": {},
   "outputs": [],
   "source": [
    "for i in index.values():\n",
    "    if len(i) < 1:\n",
    "        print(i)"
   ]
  },
  {
   "cell_type": "code",
   "execution_count": null,
   "metadata": {},
   "outputs": [],
   "source": [
    "def count_sim(shingles):\n",
    "    result = []\n",
    "\n",
    "    for sh in shingles:\n",
    "        result.extend(index[sh])\n",
    "    result_count = Counter(result)\n",
    "    try:\n",
    "        minimum = np.max(list(result_count.values())) * 0.5\n",
    "    except:\n",
    "        minimum=0\n",
    "        # print(shingles)\n",
    "    result = []\n",
    "\n",
    "    for key, value in result_count.items():\n",
    "        if value > minimum:\n",
    "            result.append(key)\n",
    "\n",
    "    return len(result) - 1"
   ]
  },
  {
   "cell_type": "code",
   "execution_count": null,
   "metadata": {},
   "outputs": [],
   "source": [
    "def get_sim(i):\n",
    "    result = []\n",
    "    for sh in np.array(df[df['Unnamed: 0'] == i].shingles_2)[0]:\n",
    "        result.extend(index[sh])\n",
    "    result_count = Counter(result)\n",
    "    minimum = np.max(list(result_count.values())) * 0.5\n",
    "    result = []\n",
    "    for key, value in result_count.items():\n",
    "        if value > minimum and key != i:\n",
    "            result.append(key)\n",
    "    sim = {}\n",
    "    v1 = arr[i]\n",
    "    for i in result:\n",
    "        v2 = arr[i]\n",
    "        sim[i] = jaccard_score(v1, v2, average='micro')\n",
    "\n",
    "    return sim"
   ]
  },
  {
   "cell_type": "code",
   "execution_count": null,
   "metadata": {},
   "outputs": [],
   "source": [
    "df['count_sim'] = df.shingles_2.progress_apply(count_sim)\n",
    "co_sim = df[df.count_sim > 0]\n",
    "co_sim_1 = co_sim[co_sim.count_sim == 1]"
   ]
  },
  {
   "cell_type": "code",
   "execution_count": null,
   "metadata": {},
   "outputs": [],
   "source": [
    "co_sim_1['sim'] = co_sim_1['Unnamed: 0'].progress_apply(get_sim)"
   ]
  },
  {
   "cell_type": "code",
   "execution_count": null,
   "metadata": {},
   "outputs": [],
   "source": [
    "co_sim_1['sim_value'] = co_sim_1.sim.apply(lambda x: list(x.values()))\n",
    "co_sim_1 = co_sim_1.sort_values(['sim_value'], ascending=False)"
   ]
  },
  {
   "cell_type": "code",
   "execution_count": null,
   "metadata": {},
   "outputs": [],
   "source": [
    "co_sim_1"
   ]
  },
  {
   "cell_type": "code",
   "execution_count": null,
   "metadata": {},
   "outputs": [],
   "source": [
    "co_sim_1[co_sim_1['Unnamed: 0']==4353].iloc[0].text"
   ]
  },
  {
   "cell_type": "code",
   "execution_count": null,
   "metadata": {},
   "outputs": [],
   "source": [
    "df.text.iloc[5245]"
   ]
  },
  {
   "cell_type": "code",
   "execution_count": null,
   "metadata": {},
   "outputs": [],
   "source": [
    "df.text.iloc[5220]"
   ]
  },
  {
   "cell_type": "code",
   "execution_count": null,
   "metadata": {},
   "outputs": [],
   "source": [
    "df.text.iloc[3225]"
   ]
  }
 ],
 "metadata": {
  "kernelspec": {
   "display_name": "Python 3",
   "language": "python",
   "name": "python3"
  },
  "language_info": {
   "codemirror_mode": {
    "name": "ipython",
    "version": 3
   },
   "file_extension": ".py",
   "mimetype": "text/x-python",
   "name": "python",
   "nbconvert_exporter": "python",
   "pygments_lexer": "ipython3",
   "version": "3.6.5"
  }
 },
 "nbformat": 4,
 "nbformat_minor": 2
}
