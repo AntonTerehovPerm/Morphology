{
 "cells": [
  {
   "cell_type": "markdown",
   "metadata": {},
   "source": [
    "1.Задание 1\n",
    "- построить матрицу.\n",
    "- Заменить 0 на 0.01, после\n",
    "- нормализовать ее\n",
    "- и умножить на вектор [х]0ю2..... несколько раз\n",
    "- топ 10 смапить с матрицы\n",
    "- армстрнг 10 топ\n",
    "\n",
    "2.hists\n",
    "- умножить матрицу на транспанированную\n",
    "- найти собственный вектор\n",
    "- hub score\n",
    "- обратое действие трансп на обычную и найти собственный вектор\n",
    "- ha"
   ]
  },
  {
   "cell_type": "markdown",
   "metadata": {},
   "source": [
    "Ссылка на данные: https://cloud.mail.ru/public/2yaK/q4DDyYf3R"
   ]
  },
  {
   "cell_type": "code",
   "execution_count": 1,
   "metadata": {},
   "outputs": [],
   "source": [
    "import os\n",
    "import urllib\n",
    "from bs4 import BeautifulSoup\n",
    "import numpy as np\n",
    "from tqdm import tqdm_notebook as tn"
   ]
  },
  {
   "cell_type": "code",
   "execution_count": 2,
   "metadata": {},
   "outputs": [],
   "source": [
    "filenames = os.listdir(\"raw\")"
   ]
  },
  {
   "cell_type": "code",
   "execution_count": 3,
   "metadata": {},
   "outputs": [
    {
     "data": {
      "text/plain": [
       "2379"
      ]
     },
     "execution_count": 3,
     "metadata": {},
     "output_type": "execute_result"
    }
   ],
   "source": [
    "len(filenames)"
   ]
  },
  {
   "cell_type": "code",
   "execution_count": 4,
   "metadata": {},
   "outputs": [],
   "source": [
    "topics = {}\n",
    "for i, file in enumerate(filenames):\n",
    "    topics[file[:-5]] = i"
   ]
  },
  {
   "cell_type": "code",
   "execution_count": 5,
   "metadata": {},
   "outputs": [],
   "source": [
    "matrix = np.zeros((len(filenames), len(filenames)))"
   ]
  },
  {
   "cell_type": "code",
   "execution_count": 6,
   "metadata": {},
   "outputs": [
    {
     "data": {
      "application/vnd.jupyter.widget-view+json": {
       "model_id": "adb603cedb534e99a132cff2954f341b",
       "version_major": 2,
       "version_minor": 0
      },
      "text/plain": [
       "HBox(children=(IntProgress(value=0, max=2379), HTML(value='')))"
      ]
     },
     "metadata": {},
     "output_type": "display_data"
    },
    {
     "name": "stdout",
     "output_type": "stream",
     "text": [
      "\n"
     ]
    }
   ],
   "source": [
    "for file in tn(filenames):\n",
    "    with open(f\"raw/{file}\", encoding='utf-8') as f:\n",
    "        cur_topic = file[:-5]\n",
    "        bs = BeautifulSoup(f.read(), \"html.parser\")\n",
    "        all_a = bs.find_all(\"a\")\n",
    "        for link in all_a:\n",
    "            if not 'href' in link.attrs:\n",
    "                continue\n",
    "            href = urllib.parse.unquote(link['href'])\n",
    "            if href.startswith(\"/wiki/\") and href[6:] in topics:\n",
    "                matrix[topics[cur_topic]][topics[href[6:]]] = 1"
   ]
  },
  {
   "cell_type": "code",
   "execution_count": 7,
   "metadata": {},
   "outputs": [],
   "source": [
    "for i in matrix:\n",
    "    for j in range(len(i)):\n",
    "        if i[j] == 0:\n",
    "            i[j] = 0.001"
   ]
  },
  {
   "cell_type": "code",
   "execution_count": 8,
   "metadata": {},
   "outputs": [],
   "source": [
    "row_sums = matrix.sum(axis=1)"
   ]
  },
  {
   "cell_type": "code",
   "execution_count": 9,
   "metadata": {},
   "outputs": [],
   "source": [
    "norm_matrix = matrix / row_sums[:, np.newaxis]"
   ]
  },
  {
   "cell_type": "code",
   "execution_count": 10,
   "metadata": {},
   "outputs": [],
   "source": [
    "vector = np.array([0.2]*len(filenames))"
   ]
  },
  {
   "cell_type": "code",
   "execution_count": 11,
   "metadata": {},
   "outputs": [],
   "source": [
    "for _ in range(100):\n",
    "    vector = norm_matrix.transpose().dot(vector)"
   ]
  },
  {
   "cell_type": "code",
   "execution_count": 12,
   "metadata": {},
   "outputs": [
    {
     "data": {
      "text/plain": [
       "array([0.90675362, 0.75596967])"
      ]
     },
     "execution_count": 12,
     "metadata": {},
     "output_type": "execute_result"
    }
   ],
   "source": [
    "np.take(vector, [1, 2])"
   ]
  },
  {
   "cell_type": "code",
   "execution_count": 13,
   "metadata": {},
   "outputs": [],
   "source": [
    "rank = {}"
   ]
  },
  {
   "cell_type": "code",
   "execution_count": 14,
   "metadata": {},
   "outputs": [],
   "source": [
    "for i, value in enumerate(vector):\n",
    "    rank[i] = value"
   ]
  },
  {
   "cell_type": "code",
   "execution_count": 15,
   "metadata": {},
   "outputs": [],
   "source": [
    "def page_rank(rank, n=10, word=None):\n",
    "    if word is not None:\n",
    "        new_topics = [ind for topic, ind in topics.items() if word.lower() in topic.lower()]\n",
    "    \n",
    "    if word is not None:\n",
    "        new_rank = {}\n",
    "        for ind in new_topics:\n",
    "            new_rank[ind] = rank[ind]\n",
    "    else:\n",
    "        new_rank = rank.copy()\n",
    "        \n",
    "    items = sorted(new_rank.items(), key=lambda t: t[1])[::-1][:n]\n",
    "    for index, value in items:\n",
    "        print(f\"{filenames[index][:-5]}: {value}\")"
   ]
  },
  {
   "cell_type": "code",
   "execution_count": 16,
   "metadata": {},
   "outputs": [
    {
     "name": "stdout",
     "output_type": "stream",
     "text": [
      "Английский_язык: 6.7102441063494815\n",
      "США: 4.666826841990532\n",
      "Франция: 3.891332065960341\n",
      "Великобритания: 3.7553791117132835\n",
      "Германия: 3.045402505156282\n",
      "Соединённые_Штаты_Америки: 2.982485368742146\n",
      "Италия: 2.411497480410388\n",
      "СССР: 2.385908911034202\n",
      "Викисклад: 2.308323432805024\n",
      "Латинский_язык: 2.305412331063708\n"
     ]
    }
   ],
   "source": [
    "page_rank(rank=rank)"
   ]
  },
  {
   "cell_type": "code",
   "execution_count": 17,
   "metadata": {},
   "outputs": [
    {
     "name": "stdout",
     "output_type": "stream",
     "text": [
      "Армстронг,_Луи: 0.2191307392457279\n",
      "Армстронг,_Нил_Олден: 0.08204167651131539\n",
      "Армстронг,_Нил: 0.07772736651558697\n",
      "Армстронг,_Билли_Джо: 0.06033081219855766\n",
      "Армстронг,_Алан: 0.05467384689837547\n",
      "Армстронг_(фамилия): 0.054339929130478144\n",
      "Армстронг,_Эдвин: 0.048724294245225605\n",
      "Армстронг,_Лэнс: 0.04765582655907429\n",
      "Билли_Джо_Армстронг: 0.04497463456555407\n",
      "Армстронг,_Крэйг: 0.039019336753872536\n"
     ]
    }
   ],
   "source": [
    "page_rank(rank=rank, word='армстронг')"
   ]
  },
  {
   "cell_type": "code",
   "execution_count": null,
   "metadata": {},
   "outputs": [],
   "source": []
  }
 ],
 "metadata": {
  "kernelspec": {
   "display_name": "Python 3",
   "language": "python",
   "name": "python3"
  },
  "language_info": {
   "codemirror_mode": {
    "name": "ipython",
    "version": 3
   },
   "file_extension": ".py",
   "mimetype": "text/x-python",
   "name": "python",
   "nbconvert_exporter": "python",
   "pygments_lexer": "ipython3",
   "version": "3.6.5"
  }
 },
 "nbformat": 4,
 "nbformat_minor": 2
}
