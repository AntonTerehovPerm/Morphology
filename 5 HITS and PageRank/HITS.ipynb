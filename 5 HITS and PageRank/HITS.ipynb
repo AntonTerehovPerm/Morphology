{
 "cells": [
  {
   "cell_type": "code",
   "execution_count": 11,
   "metadata": {},
   "outputs": [],
   "source": [
    "import random\n",
    "import os"
   ]
  },
  {
   "cell_type": "code",
   "execution_count": 28,
   "metadata": {},
   "outputs": [],
   "source": [
    "def craft_data(kol, link_range):\n",
    "    global path\n",
    "    try:\n",
    "        os.mkdir(path)\n",
    "    except:\n",
    "        pass\n",
    "    for x in range(kol):\n",
    "        file = open(path+'link_'+str(x)+'.txt','w',encoding='utf-8')\n",
    "        all_link = random.randint(link_range[0],link_range[1])\n",
    "        for y in range(all_link):\n",
    "            file.write(str(random.randint(0,kol-1))+'\\n')\n",
    "        file.close()"
   ]
  },
  {
   "cell_type": "code",
   "execution_count": 34,
   "metadata": {},
   "outputs": [],
   "source": [
    "path = 'Text/'\n",
    "kol = 200\n",
    "link_range = [1,20]\n",
    "craft_data(kol, link_range)"
   ]
  },
  {
   "cell_type": "markdown",
   "metadata": {},
   "source": [
    "# Решение"
   ]
  },
  {
   "cell_type": "code",
   "execution_count": 44,
   "metadata": {},
   "outputs": [],
   "source": [
    "matrix = [ [0 for line in range(kol)] for line in range(kol)]\n",
    "matrix_T = [ [0 for line in range(kol)] for line in range(kol)]\n",
    "vector = [1 for line in range(kol)]\n",
    "#matrix"
   ]
  },
  {
   "cell_type": "code",
   "execution_count": 48,
   "metadata": {},
   "outputs": [],
   "source": [
    "def umnozh_matrix(matrix,vector):\n",
    "    end_vector = []\n",
    "    for y in matrix:\n",
    "        end_vector.append(sum([ x*y[i] for i,x in enumerate(vector)]))\n",
    "    return end_vector"
   ]
  },
  {
   "cell_type": "code",
   "execution_count": 50,
   "metadata": {},
   "outputs": [
    {
     "name": "stdout",
     "output_type": "stream",
     "text": [
      "[28, 22, 40, 18, 28, 18, 16, 28, 32, 16, 14, 36, 16, 20, 18, 26, 14, 16, 34, 24, 22, 32, 34, 12, 18, 24, 24, 24, 22, 16, 12, 12, 14, 24, 16, 24, 28, 20, 12, 24, 8, 24, 18, 14, 14, 32, 26, 20, 26, 18, 16, 22, 10, 22, 20, 30, 16, 24, 16, 14, 22, 12, 26, 16, 22, 20, 32, 18, 10, 28, 22, 32, 22, 16, 14, 12, 24, 22, 24, 18, 24, 20, 16, 22, 24, 24, 24, 22, 18, 14, 28, 26, 20, 30, 30, 20, 26, 30, 22, 36, 22, 14, 24, 18, 24, 20, 18, 22, 14, 30, 24, 22, 18, 24, 20, 18, 22, 24, 16, 10, 24, 26, 20, 12, 20, 24, 28, 26, 24, 22, 36, 34, 16, 24, 26, 10, 24, 20, 26, 16, 22, 18, 38, 16, 14, 20, 28, 26, 24, 38, 30, 26, 18, 20, 40, 22, 16, 12, 18, 30, 28, 24, 22, 14, 18, 26, 30, 24, 12, 12, 22, 18, 30, 26, 14, 32, 22, 20, 22, 18, 22, 26, 20, 18, 32, 18, 16, 12, 16, 28, 34, 18, 16, 22, 18, 28, 22, 20, 24, 20]\n",
      "[772, 324, 80, 740, 608, 864, 808, 148, 408, 448, 356, 856, 64, 72, 384, 604, 392, 820, 272, 264, 180, 508, 324, 344, 48, 452, 1004, 500, 868, 92, 168, 96, 168, 548, 804, 304, 620, 108, 248, 232, 100, 876, 1032, 264, 812, 44, 932, 884, 408, 528, 236, 560, 544, 744, 524, 780, 860, 68, 244, 512, 324, 584, 688, 928, 780, 312, 972, 72, 392, 712, 624, 660, 1044, 720, 688, 864, 108, 876, 552, 592, 880, 744, 172, 548, 820, 984, 328, 48, 756, 724, 932, 100, 916, 184, 912, 888, 596, 84, 736, 872, 912, 556, 280, 864, 276, 248, 584, 80, 820, 768, 56, 328, 52, 912, 144, 156, 416, 788, 904, 704, 404, 588, 616, 168, 776, 332, 252, 692, 824, 88, 92, 372, 304, 236, 260, 608, 504, 504, 764, 812, 576, 864, 980, 596, 44, 536, 752, 780, 500, 440, 104, 884, 144, 248, 920, 760, 728, 408, 160, 432, 616, 668, 496, 588, 492, 616, 152, 32, 808, 836, 588, 760, 160, 748, 48, 956, 516, 676, 60, 740, 476, 1052, 20, 52, 412, 400, 724, 572, 456, 292, 772, 388, 504, 860, 364, 456, 660, 992, 72, 624]\n"
     ]
    }
   ],
   "source": [
    "for one in range(kol):\n",
    "    f = open(path+'link_'+str(one)+'.txt','r',encoding='utf-8')\n",
    "    for x in f:\n",
    "        matrix[one][int(x)] += 1\n",
    "        matrix_T[int(x)][one] += 1\n",
    "        \n",
    "first_back_weight = umnozh_matrix(matrix_T,vector) # на кого ссылаются authority\n",
    "second_back_weight = umnozh_matrix(matrix,first_back_weight) # hub ссылающиеся на авторитеты\n",
    "print(first_back_weight)\n",
    "print(second_back_weight)"
   ]
  },
  {
   "cell_type": "code",
   "execution_count": 41,
   "metadata": {},
   "outputs": [],
   "source": [
    "#matrix[49]\n",
    "#matrix_T"
   ]
  },
  {
   "cell_type": "code",
   "execution_count": 49,
   "metadata": {},
   "outputs": [
    {
     "data": {
      "text/plain": [
       "[0, 0, 2]"
      ]
     },
     "execution_count": 49,
     "metadata": {},
     "output_type": "execute_result"
    }
   ],
   "source": [
    "umnozh_matrix([[0,0,0],[0,0,0],[1,1,0]],[1,1,1])"
   ]
  },
  {
   "cell_type": "code",
   "execution_count": 51,
   "metadata": {},
   "outputs": [
    {
     "data": {
      "text/plain": [
       "[2, 2, 0]"
      ]
     },
     "execution_count": 51,
     "metadata": {},
     "output_type": "execute_result"
    }
   ],
   "source": [
    "umnozh_matrix([[0,0,1],[0,0,1],[0,0,0]],[0,0,2])"
   ]
  },
  {
   "cell_type": "code",
   "execution_count": null,
   "metadata": {},
   "outputs": [],
   "source": []
  }
 ],
 "metadata": {
  "kernelspec": {
   "display_name": "Python 3",
   "language": "python",
   "name": "python3"
  },
  "language_info": {
   "codemirror_mode": {
    "name": "ipython",
    "version": 3
   },
   "file_extension": ".py",
   "mimetype": "text/x-python",
   "name": "python",
   "nbconvert_exporter": "python",
   "pygments_lexer": "ipython3",
   "version": "3.6.5"
  }
 },
 "nbformat": 4,
 "nbformat_minor": 2
}
