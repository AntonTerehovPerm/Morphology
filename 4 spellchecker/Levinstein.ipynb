{
 "cells": [
  {
   "cell_type": "markdown",
   "metadata": {},
   "source": [
    "1.словарь - count \n",
    "2. по расстоянию ливенштейна 10"
   ]
  },
  {
   "cell_type": "code",
   "execution_count": 1,
   "metadata": {},
   "outputs": [
    {
     "data": {
      "text/html": [
       "<div>\n",
       "<style scoped>\n",
       "    .dataframe tbody tr th:only-of-type {\n",
       "        vertical-align: middle;\n",
       "    }\n",
       "\n",
       "    .dataframe tbody tr th {\n",
       "        vertical-align: top;\n",
       "    }\n",
       "\n",
       "    .dataframe thead th {\n",
       "        text-align: right;\n",
       "    }\n",
       "</style>\n",
       "<table border=\"1\" class=\"dataframe\">\n",
       "  <thead>\n",
       "    <tr style=\"text-align: right;\">\n",
       "      <th></th>\n",
       "      <th>Id</th>\n",
       "      <th>Url</th>\n",
       "      <th>Title</th>\n",
       "    </tr>\n",
       "  </thead>\n",
       "  <tbody>\n",
       "    <tr>\n",
       "      <th>0</th>\n",
       "      <td>266EFC602F3F3E3209ADD9E475AB2B52</td>\n",
       "      <td>http://www.interfax.ru/moscow/582336</td>\n",
       "      <td>Огонь полностью охватил строительный рынок \"Си...</td>\n",
       "    </tr>\n",
       "    <tr>\n",
       "      <th>1</th>\n",
       "      <td>E336BF4DC7A5AF06FC14306EDEF2028C</td>\n",
       "      <td>http://www.interfax.ru/russia/582326</td>\n",
       "      <td>В Дагестане началась проверка из-за задержания...</td>\n",
       "    </tr>\n",
       "    <tr>\n",
       "      <th>2</th>\n",
       "      <td>FBAE7E7AC5B9C81AFEFFAE4B2F8DB12B</td>\n",
       "      <td>http://www.interfax.ru/russia/582315</td>\n",
       "      <td>В Госдуме анонсировали принятие закона о запре...</td>\n",
       "    </tr>\n",
       "    <tr>\n",
       "      <th>3</th>\n",
       "      <td>086D54F89C5833F7AF9CFFE2709582F5</td>\n",
       "      <td>http://www.interfax.ru/world/582312</td>\n",
       "      <td>Премьер Испании исключил отделение Каталонии о...</td>\n",
       "    </tr>\n",
       "    <tr>\n",
       "      <th>4</th>\n",
       "      <td>62C3A495624B49D7AA38767D26A5CCFC</td>\n",
       "      <td>http://www.interfax.ru/russia/582298</td>\n",
       "      <td>В Петербурге завели дело после смерти женщины ...</td>\n",
       "    </tr>\n",
       "    <tr>\n",
       "      <th>5</th>\n",
       "      <td>5F277BE8F55F76F68ADF31830A7280B5</td>\n",
       "      <td>http://www.interfax.ru/world/582216</td>\n",
       "      <td>Полиция Дании обнаружила части тела пропавшей ...</td>\n",
       "    </tr>\n",
       "    <tr>\n",
       "      <th>6</th>\n",
       "      <td>FE188E1820FF5ED08BB3AE0FE8D1C5F3</td>\n",
       "      <td>http://www.interfax.ru/russia/582375</td>\n",
       "      <td>Житель Красноярска предстанет перед судом за р...</td>\n",
       "    </tr>\n",
       "    <tr>\n",
       "      <th>7</th>\n",
       "      <td>41009F19FE4F209F1EF55DFD7A93A849</td>\n",
       "      <td>http://www.interfax.ru/russia/582374</td>\n",
       "      <td>Медведев предложил поделиться с Алжиром технол...</td>\n",
       "    </tr>\n",
       "    <tr>\n",
       "      <th>8</th>\n",
       "      <td>FE383F9330C83173FE09F741B720D0BE</td>\n",
       "      <td>http://www.interfax.ru/russia/582373</td>\n",
       "      <td>Житель Приамурья приговорен к 22 годам строгог...</td>\n",
       "    </tr>\n",
       "    <tr>\n",
       "      <th>9</th>\n",
       "      <td>018CABDC8CAABBE7AC8A4E32E24196D9</td>\n",
       "      <td>http://www.interfax.ru/russia/582371</td>\n",
       "      <td>Площадь лесных пожаров в Приморье за сутки выр...</td>\n",
       "    </tr>\n",
       "  </tbody>\n",
       "</table>\n",
       "</div>"
      ],
      "text/plain": [
       "                                 Id                                   Url  \\\n",
       "0  266EFC602F3F3E3209ADD9E475AB2B52  http://www.interfax.ru/moscow/582336   \n",
       "1  E336BF4DC7A5AF06FC14306EDEF2028C  http://www.interfax.ru/russia/582326   \n",
       "2  FBAE7E7AC5B9C81AFEFFAE4B2F8DB12B  http://www.interfax.ru/russia/582315   \n",
       "3  086D54F89C5833F7AF9CFFE2709582F5   http://www.interfax.ru/world/582312   \n",
       "4  62C3A495624B49D7AA38767D26A5CCFC  http://www.interfax.ru/russia/582298   \n",
       "5  5F277BE8F55F76F68ADF31830A7280B5   http://www.interfax.ru/world/582216   \n",
       "6  FE188E1820FF5ED08BB3AE0FE8D1C5F3  http://www.interfax.ru/russia/582375   \n",
       "7  41009F19FE4F209F1EF55DFD7A93A849  http://www.interfax.ru/russia/582374   \n",
       "8  FE383F9330C83173FE09F741B720D0BE  http://www.interfax.ru/russia/582373   \n",
       "9  018CABDC8CAABBE7AC8A4E32E24196D9  http://www.interfax.ru/russia/582371   \n",
       "\n",
       "                                               Title  \n",
       "0  Огонь полностью охватил строительный рынок \"Си...  \n",
       "1  В Дагестане началась проверка из-за задержания...  \n",
       "2  В Госдуме анонсировали принятие закона о запре...  \n",
       "3  Премьер Испании исключил отделение Каталонии о...  \n",
       "4  В Петербурге завели дело после смерти женщины ...  \n",
       "5  Полиция Дании обнаружила части тела пропавшей ...  \n",
       "6  Житель Красноярска предстанет перед судом за р...  \n",
       "7  Медведев предложил поделиться с Алжиром технол...  \n",
       "8  Житель Приамурья приговорен к 22 годам строгог...  \n",
       "9  Площадь лесных пожаров в Приморье за сутки выр...  "
      ]
     },
     "execution_count": 1,
     "metadata": {},
     "output_type": "execute_result"
    }
   ],
   "source": [
    "import pandas as pd\n",
    "data = pd.read_csv('data_ifax/index.csv',  # Это то, куда вы скачали файл\n",
    "                       sep=',')\n",
    "data.head(10)"
   ]
  },
  {
   "cell_type": "code",
   "execution_count": 8,
   "metadata": {},
   "outputs": [
    {
     "data": {
      "text/plain": [
       "(34822,)"
      ]
     },
     "execution_count": 8,
     "metadata": {},
     "output_type": "execute_result"
    }
   ],
   "source": [
    "data['Id'].shape"
   ]
  },
  {
   "cell_type": "code",
   "execution_count": 107,
   "metadata": {},
   "outputs": [],
   "source": [
    "import os"
   ]
  },
  {
   "cell_type": "code",
   "execution_count": 109,
   "metadata": {},
   "outputs": [
    {
     "name": "stdout",
     "output_type": "stream",
     "text": [
      "['data_ifax/0000469F976CDC26F/CD8903D47E0BEED.txt', 'data_ifax/00014CA54E1083C9E/A8D9864C98ABF58.txt', 'data_ifax/0003B7CE1437FDE32/191A4E229010A73.txt', 'data_ifax/0003C742579B14AD9/DA72FD2A12650E1.txt', 'data_ifax/0004CAEE762261483/562E7792A6B7C99.txt', 'data_ifax/0005D704757007CC6/DDDA26B32618C55.txt', 'data_ifax/000696B032E397B42/3408ABB02C4E363.txt', 'data_ifax/0009A352E003C569D/4CBF0956E903298.txt', 'data_ifax/000A15C54A91F7D0C/2DA7325CE6E53C8.txt', 'data_ifax/000A32031EFD0FC90/C301179430A78A2.txt']\n",
      "34822\n"
     ]
    }
   ],
   "source": [
    "directory = 'data_ifax/'\n",
    "file = os.listdir(directory)\n",
    "slovar_imen_file = []\n",
    "for x in file:\n",
    "    #print(directory+file[1]+'/')\n",
    "    if x != 'index.csv':\n",
    "        new_f = os.listdir(directory+x+'/')\n",
    "        #f = open(directory+file)\n",
    "        #print(new_f[1])\n",
    "        slovar_imen_file.append(directory+x+'/'+new_f[1])\n",
    "print(slovar_imen_file[:10])\n",
    "print(len(slovar_imen_file))"
   ]
  },
  {
   "cell_type": "code",
   "execution_count": 106,
   "metadata": {},
   "outputs": [
    {
     "data": {
      "text/plain": [
       "'а'"
      ]
     },
     "execution_count": 106,
     "metadata": {},
     "output_type": "execute_result"
    }
   ],
   "source": [
    "s = 'Мосва'\n",
    "chast_len = len(s) % 3\n",
    "s[chast_len*2:]"
   ]
  },
  {
   "cell_type": "code",
   "execution_count": 110,
   "metadata": {},
   "outputs": [],
   "source": [
    "def clear_world_symbols(massiv):\n",
    "    global slovar_symbols, slovar_slov, tri_geamm\n",
    "    #print(massiv)\n",
    "    for x in massiv:\n",
    "        for slo in x.strip().split():\n",
    "            slo = slo.strip().lower()\n",
    "            #print(slo)\n",
    "            if slovar_slov.get(slo) == None:\n",
    "                slovar_slov[slo] = 1\n",
    "            else:\n",
    "                slovar_slov[slo] += 1\n",
    "                \n",
    "            chast_len = len(slo) % 3 \n",
    "            slovar_gr = [slo[:chast_len],slo[chast_len:chast_len*2],slo[chast_len*2:]]\n",
    "            for tr in slovar_gr:\n",
    "                if tri_geamm.get(tr) == None:\n",
    "                    tri_geamm[tr] = [slo]\n",
    "                else:\n",
    "                    tri_geamm[tr].append(slo)\n",
    "            \n",
    "                for y in slo:\n",
    "                    if slovar_symbols.get(y) == None:\n",
    "                        slovar_symbols[y] = [slo]\n",
    "                    else:\n",
    "                        slovar_symbols[y].append(slo)"
   ]
  },
  {
   "cell_type": "code",
   "execution_count": 132,
   "metadata": {},
   "outputs": [],
   "source": [
    "slovar_symbols ={}\n",
    "slovar_slov = {} # slovo - count\n",
    "tri_geamm = {}\n",
    "\n",
    "for file in slovar_imen_file[:5000]:#[:10]:#[:5000]:\n",
    "    #print(file)\n",
    "    f = open(file, 'r', encoding = 'utf-8')\n",
    "    clear_world_symbols([x for x in f])"
   ]
  },
  {
   "cell_type": "code",
   "execution_count": 133,
   "metadata": {},
   "outputs": [],
   "source": [
    "def distance(a, b):\n",
    "    \"Calculates the Levenshtein distance between a and b.\"\n",
    "    n, m = len(a), len(b)\n",
    "    if n > m:\n",
    "        # Make sure n <= m, to use O(min(n, m)) space\n",
    "        a, b = b, a\n",
    "        n, m = m, n\n",
    "\n",
    "    current_row = range(n + 1) # Keep current and previous row, not entire matrix\n",
    "    for i in range(1, m + 1):\n",
    "        previous_row, current_row = current_row, [i] + [0] * n\n",
    "        for j in range(1, n + 1):\n",
    "            add, delete, change = previous_row[j] + 1, current_row[j - 1] + 1, previous_row[j - 1]\n",
    "            if a[j - 1] != b[i - 1]:\n",
    "                change += 1\n",
    "            current_row[j] = min(add, delete, change)\n",
    "\n",
    "    return current_row[n]"
   ]
  },
  {
   "cell_type": "code",
   "execution_count": 138,
   "metadata": {},
   "outputs": [],
   "source": [
    "def check_levi(slovo):\n",
    "    global slovar_slov\n",
    "    slovo = slovo.strip().lower()\n",
    "    position = []\n",
    "    slovar_slov_position = {}\n",
    "    if slovar_slov.get(slovo) == None:\n",
    "        for x in slovar_slov:\n",
    "            save_otv = distance(slovo,x)\n",
    "            if slovar_slov_position.get(save_otv) == None:\n",
    "                slovar_slov_position[save_otv] = [x]\n",
    "            else:\n",
    "                slovar_slov_position[save_otv].append(x)\n",
    "                \n",
    "        for x in slovar_slov_position:\n",
    "            position.append(x)\n",
    "        position = sorted(position)\n",
    "        otvet = []\n",
    "        l = 0\n",
    "        while len(otvet) < 10:\n",
    "            otvet += slovar_slov_position[position[l]]\n",
    "            l+= 1\n",
    "        for x in otvet[:10]:\n",
    "            print(x,':(',slovar_slov[x],',',distance(slovo,x),')')\n",
    "        #print(otvet[:10])\n",
    "    else:\n",
    "        print(slovo,':',slovar_slov[slovo])"
   ]
  },
  {
   "cell_type": "code",
   "execution_count": 150,
   "metadata": {},
   "outputs": [],
   "source": [
    "def check_levi_index(slovo):\n",
    "    global tri_geamm, slovar_slov\n",
    "    slovo = slovo.strip().lower()\n",
    "    slovat = []\n",
    "    \n",
    "    chast_len = len(slovo) % 3 \n",
    "    slovar_gr = [slovo[:chast_len],slovo[chast_len:chast_len*2],slovo[chast_len*2:]]\n",
    "    for tr in slovar_gr:\n",
    "        if tri_geamm.get(tr) != None:\n",
    "                slovat += tri_geamm[tr]\n",
    "    #print (slovat)\n",
    "    \n",
    "    position = []\n",
    "    slovar_slov_position = {}\n",
    "    for x in slovat:\n",
    "        save_otv = distance(slovo,x)\n",
    "        if slovar_slov_position.get(save_otv) == None:\n",
    "                slovar_slov_position[save_otv] = [x]\n",
    "        else:\n",
    "                slovar_slov_position[save_otv].append(x)    \n",
    "    #print(slovar_slov_position) \n",
    "    \n",
    "    for x in slovar_slov_position:\n",
    "        position.append(x)\n",
    "    position = sorted(position)\n",
    "    #print(position)\n",
    "    \n",
    "    otvet = []\n",
    "    l = 0\n",
    "    while len(otvet) < 10:\n",
    "        otvet += slovar_slov_position[position[l]]\n",
    "        l+= 1\n",
    "        #print(slovar_slov_position[position[l-1]])\n",
    "        #print(slovar_slov_position[position[l]])    \n",
    "    for x in otvet[:10]:\n",
    "        print(x,':(',slovar_slov[x],',',distance(slovo,x),')')\n",
    "    print(otvet[:10])"
   ]
  },
  {
   "cell_type": "markdown",
   "metadata": {},
   "source": [
    "# Расстояние левинштейна стандарт"
   ]
  },
  {
   "cell_type": "code",
   "execution_count": null,
   "metadata": {},
   "outputs": [],
   "source": [
    "check_levi('Мосва')"
   ]
  },
  {
   "cell_type": "markdown",
   "metadata": {},
   "source": [
    "# По индексу"
   ]
  },
  {
   "cell_type": "code",
   "execution_count": null,
   "metadata": {},
   "outputs": [],
   "source": [
    "check_levi_index('Москва')"
   ]
  },
  {
   "cell_type": "code",
   "execution_count": null,
   "metadata": {},
   "outputs": [],
   "source": []
  }
 ],
 "metadata": {
  "kernelspec": {
   "display_name": "Python 3",
   "language": "python",
   "name": "python3"
  },
  "language_info": {
   "codemirror_mode": {
    "name": "ipython",
    "version": 3
   },
   "file_extension": ".py",
   "mimetype": "text/x-python",
   "name": "python",
   "nbconvert_exporter": "python",
   "pygments_lexer": "ipython3",
   "version": "3.6.5"
  }
 },
 "nbformat": 4,
 "nbformat_minor": 2
}
